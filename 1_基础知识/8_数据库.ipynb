{
 "cells": [
  {
   "cell_type": "code",
   "execution_count": 1,
   "metadata": {},
   "outputs": [
    {
     "data": {
      "text/plain": [
       "'/Users/tongli/opt/anaconda3/envs/tensorflow_env/bin/python'"
      ]
     },
     "execution_count": 1,
     "metadata": {},
     "output_type": "execute_result"
    }
   ],
   "source": [
    "# 查看此环境的kernel\n",
    "import sys\n",
    "sys.executable"
   ]
  },
  {
   "cell_type": "code",
   "execution_count": 5,
   "metadata": {},
   "outputs": [
    {
     "name": "stdout",
     "output_type": "stream",
     "text": [
      "Database version : 8.0.20 \n"
     ]
    }
   ],
   "source": [
    "import pymysql\n",
    "db = pymysql.connect(host='localhost', user='root',password='password',database='learn_python')\n",
    "# 创建游标cursor \n",
    "cursor = db.cursor() \n",
    "# 使用 cursor.execute() 方法执行 SQL 查询\n",
    "cursor.execute(\"SELECT VERSION()\")  # 数据库版本\n",
    "# 用fetchone返回结果\n",
    "data = cursor.fetchone()\n",
    "print (\"Database version : %s \" % data)\n",
    "# 关闭数据库\n",
    "db.close()"
   ]
  },
  {
   "cell_type": "code",
   "execution_count": 8,
   "metadata": {},
   "outputs": [],
   "source": [
    "# 创建表格\n",
    "import pymysql\n",
    "db = pymysql.connect(host='localhost', user='root',password='password',database='learn_python')\n",
    "cursor = db.cursor()\n",
    "# 使用预处理语句创建表\n",
    "sql = \"\"\"CREATE TABLE STUDENT ( FIRST_NAME  CHAR(20) NOT NULL,\n",
    "         LAST_NAME  CHAR(20),\n",
    "         AGE INT,  \n",
    "         SEX CHAR(1),\n",
    "         INCOME FLOAT )\"\"\"\n",
    "cursor.execute(sql)\n",
    "db.close()"
   ]
  },
  {
   "cell_type": "code",
   "execution_count": 20,
   "metadata": {},
   "outputs": [],
   "source": [
    "# 插入数据\n",
    "import pymysql\n",
    "db = pymysql.connect(host='localhost', user='root',password='password',database='learn_python')\n",
    "cursor = db.cursor()\n",
    "\n",
    "# 插入数据语句\n",
    "sql = \"INSERT INTO STUDENT(FIRST_NAME,LAST_NAME, AGE, SEX, INCOME)VALUES ('lisa', 'Mohan', 20, 'M', 2000)\"\n",
    "try:\n",
    "    cursor.execute(sql)\n",
    "    # 提交语句 增删改都需要commit().查不需要\n",
    "    db.commit()\n",
    "except:\n",
    "    # 发送错误，回滚\n",
    "    db.rollback()\n",
    "db.close()"
   ]
  },
  {
   "cell_type": "code",
   "execution_count": 22,
   "metadata": {},
   "outputs": [
    {
     "name": "stdout",
     "output_type": "stream",
     "text": [
      "(('lisa', 'Mohan', 20, 'M', 2000.0), ('lisa', 'Mohan', 20, 'M', 2000.0), ('lisa', 'Mohan', 20, 'M', 2000.0))\n"
     ]
    }
   ],
   "source": [
    "# 插入数据\n",
    "import pymysql\n",
    "db = pymysql.connect(host='localhost', user='root',password='password',database='learn_python')\n",
    "cursor = db.cursor()\n",
    "\n",
    "# 查询数据语句\n",
    "sql = \"SELECT * FROM STUDENT WHERE INCOME > %s\"%1000\n",
    "try:  \n",
    "    cursor.execute(sql)\n",
    "\n",
    "    # 得到查询结果\n",
    "    results = cursor.fetchall()\n",
    "    print (results)\n",
    "except:\n",
    "    print('查询错误')\n",
    "db.close()"
   ]
  }
 ],
 "metadata": {
  "kernelspec": {
   "display_name": "Python (tensorflow)",
   "language": "python",
   "name": "tensorflow_env"
  }
 },
 "nbformat": 4,
 "nbformat_minor": 4
}
