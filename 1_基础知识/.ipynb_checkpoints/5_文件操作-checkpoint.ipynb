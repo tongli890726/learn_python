{
 "cells": [
  {
   "cell_type": "code",
   "execution_count": 6,
   "metadata": {},
   "outputs": [
    {
     "name": "stdout",
     "output_type": "stream",
     "text": [
      "第一行数据\n",
      "第二行数据\n",
      "第三行数据\n",
      "\n"
     ]
    }
   ],
   "source": [
    "#------- 读文件\n",
    "\n",
    "# 1、打开文件，r代表读\n",
    "f = open('/Users/tongli/Desktop/Python/1_基础知识/resources/text.txt','r')\n",
    "# 读取文件\n",
    "result = f.read()\n",
    "# 关闭文件\n",
    "print(result)\n",
    "f.close()\n"
   ]
  },
  {
   "cell_type": "code",
   "execution_count": 7,
   "metadata": {},
   "outputs": [
    {
     "name": "stdout",
     "output_type": "stream",
     "text": [
      "第一行数据\n",
      "\n",
      "第二行数据\n",
      "\n",
      "第三行数据\n",
      "\n"
     ]
    }
   ],
   "source": [
    "# readlines() 是读取所有内容并按行返回\n",
    "f = open('/Users/tongli/Desktop/Python/1_基础知识/resources/text.txt','r')\n",
    "for line in f.readlines():\n",
    "    print(line)"
   ]
  },
  {
   "cell_type": "code",
   "execution_count": 9,
   "metadata": {},
   "outputs": [
    {
     "name": "stdout",
     "output_type": "stream",
     "text": [
      "第一\n"
     ]
    }
   ],
   "source": [
    "f = open('/Users/tongli/Desktop/Python/1_基础知识/resources/text.txt','r')\n",
    "# read(size)是读取大小的\n",
    "print(f.read(2))"
   ]
  },
  {
   "cell_type": "code",
   "execution_count": 15,
   "metadata": {},
   "outputs": [],
   "source": [
    "#------- 写文件\n",
    "# w是写文本，wb是写二进制文件 a是追加(即用w的话，会覆盖原来的内容)\n",
    "f = open('/Users/tongli/Desktop/Python/1_基础知识/resources/text.txt','w')\n",
    "f.write('西游记')\n",
    "f.close()\n"
   ]
  },
  {
   "cell_type": "code",
   "execution_count": 21,
   "metadata": {},
   "outputs": [
    {
     "name": "stdout",
     "output_type": "stream",
     "text": [
      "西游记西游记西游记红楼梦红楼梦\n"
     ]
    }
   ],
   "source": [
    "# *****  推荐用法 *****\n",
    "# 由于open可能出错，导致无法关闭文件，所以用with语法更好，不用调用close()方法，如果open出错，会自动调用close\n",
    "# 写文件\n",
    "with open('/Users/tongli/Desktop/Python/1_基础知识/resources/text.txt','r') as f:\n",
    "    print(f.read())"
   ]
  },
  {
   "cell_type": "code",
   "execution_count": 20,
   "metadata": {},
   "outputs": [],
   "source": [
    "#读文件\n",
    "with open('/Users/tongli/Desktop/Python/1_基础知识/resources/text.txt','a') as f:\n",
    "    f.write('红楼梦')"
   ]
  },
  {
   "cell_type": "code",
   "execution_count": 34,
   "metadata": {},
   "outputs": [
    {
     "name": "stdout",
     "output_type": "stream",
     "text": [
      "/Users/tongli/Desktop/Python/1_基础知识\n",
      "/Users/tongli/Desktop/Python/1_基础知识/aaa\n"
     ]
    }
   ],
   "source": [
    "# --------------- 文件路径操作\n",
    "import os\n",
    "# 查看当前目录的绝对路径\n",
    "print( os.path.abspath('.'))\n",
    "\n",
    "# 路径拼接\n",
    "print(os.path.join('/Users/tongli/Desktop/Python/1_基础知识', 'aaa'))\n",
    "\n",
    "# 创建一个目录\n",
    "os.mkdir('/Users/tongli/Desktop/Python/aaa')\n",
    "# 删除目录\n",
    "os.rmdir('/Users/tongli/Desktop/Python/aaa')\n",
    "\n",
    "# 拆分路径,拆成两部分，后一部分是最后级别的目录或文件名\n",
    "print(os.path.split('/Users/tongli/Desktop/Python/1_基础知识/1_逻辑控制语句和容器.ipynb'))\n",
    "\n",
    "# 拆分出 文件扩展名\n",
    "print(os.path.splitext('/Users/tongli/Desktop/Python/1_基础知识/1_逻辑控制语句和容器.ipynb'))\n",
    "\n",
    "# 文件或文件夹 重命名\n",
    "os.rename('aaa', 'bbb')\n",
    "\n",
    "# 删除文件\n",
    "os.remove('111.txt')\n",
    "\n"
   ]
  },
  {
   "cell_type": "code",
   "execution_count": 58,
   "metadata": {},
   "outputs": [
    {
     "name": "stdout",
     "output_type": "stream",
     "text": [
      "{\"name\": \"lisa\", \"age\": 29} <class 'str'>\n",
      "{'name': 'lisa', 'age': 29} <class 'dict'>\n",
      "{'name': 'lisa', 'age': 29} <class 'dict'>\n"
     ]
    }
   ],
   "source": [
    "# 序列化\n",
    "import json\n",
    "# dumps()就是将dic类型转换成str类型\n",
    "dic = {'name':'lisa', 'age':29}\n",
    "ds = json.dumps(dic)\n",
    "print(ds ,type(ds))\n",
    "\n",
    "\n",
    "# dump()是将dic类型转换成字符串，存到本地\n",
    "with open('aaa.txt','w') as f:\n",
    "    json.dump(dic, f)\n",
    "\n",
    "# loads() 是将str变为dic\n",
    "tempdic = json.loads(ds)\n",
    "print(tempdic, type(tempdic))\n",
    "\n",
    "# load()从本地读取字符串并反序列化 即读取后转换为dic类型\n",
    "with open('aaa.txt', 'r') as f:\n",
    "    tempStr = json.load(f)\n",
    "    print(tempStr, type(tempStr))\n",
    "    \n",
    "# dumps和loads是逆应用。dump和load是逆应用\n"
   ]
  },
  {
   "cell_type": "code",
   "execution_count": 63,
   "metadata": {
    "code_folding": []
   },
   "outputs": [
    {
     "name": "stdout",
     "output_type": "stream",
     "text": [
      "{\"name\": \"Bob\", \"age\": 28, \"score\": 100}\n",
      "lisa 29 99\n"
     ]
    }
   ],
   "source": [
    "# 类 进行序列化\n",
    "import json\n",
    "\n",
    "class Student(object):\n",
    "    \"\"\"docstring for ClassName \"\"\"\n",
    "    def __init__(self, name, age, score):\n",
    "        self.name = name\n",
    "        self.age = age\n",
    "        self.score = score\n",
    "# 转换函数。将类转换为dic\n",
    "def student2Dict(std):\n",
    "    #std就是要序列化的实例对象\n",
    "    return {'name':std.name, 'age':std.age, 'score':std.score}\n",
    "\n",
    "s = Student('Bob', 28, 100)\n",
    "# 给dumps加上一个可选参数default\n",
    "jsonStr = json.dumps(s, default=student2Dict)\n",
    "print(jsonStr)\n",
    "\n",
    "\n",
    "# 类 反序列化\n",
    "# 转换函数，将dic转换为类\n",
    "def dic2Student(d):\n",
    "    #d 就是要反序列化的dic\n",
    "    return Student(d['name'], d['age'], d['score'])\n",
    "\n",
    "jsonStr2 = '{\"age\":29, \"score\":99, \"name\":\"lisa\"}'\n",
    "# 给loads加上一个可选参数object_hook\n",
    "s2 = json.loads(jsonStr2, object_hook=dic2Student)\n",
    "print(s2.name,s2.age, s2.score)"
   ]
  }
 ],
 "metadata": {
  "kernelspec": {
   "display_name": "Python [conda env:tensorflow_env] *",
   "language": "python",
   "name": "conda-env-tensorflow_env-py"
  },
  "language_info": {
   "codemirror_mode": {
    "name": "ipython",
    "version": 3
   },
   "file_extension": ".py",
   "mimetype": "text/x-python",
   "name": "python",
   "nbconvert_exporter": "python",
   "pygments_lexer": "ipython3",
   "version": "3.7.7"
  }
 },
 "nbformat": 4,
 "nbformat_minor": 4
}
