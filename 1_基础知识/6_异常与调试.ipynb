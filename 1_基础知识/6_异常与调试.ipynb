{
 "cells": [
  {
   "cell_type": "code",
   "execution_count": 22,
   "metadata": {},
   "outputs": [
    {
     "name": "stdout",
     "output_type": "stream",
     "text": [
      "try...\n",
      "except: division by zero\n",
      "finally....\n",
      "end\n"
     ]
    }
   ],
   "source": [
    "# 异常\n",
    "'''\n",
    "try...except...finally...\n",
    "try运行的代码，如果执行出错，则后续代码不会继续执行，直接跳转到except语句块。如果有finally，最后执行finally语句块\n",
    "try运行的代码，没有错误，执行完try的代码。如果有finally，就直接执行finally中的代码\n",
    "\n",
    "如果有else,当try没有错误，就会执行else的代码\n",
    "\n",
    "Python所有的错误都是从BaseException类派生的，常见的错误类型和继承关系看这里：\n",
    "https://docs.python.org/3/library/exceptions.html#exception-hierarchy\n",
    "所有的错误可以用Exception接收\n",
    "'''\n",
    "try:\n",
    "    print('try...')\n",
    "    r = 10 / 0\n",
    "    print('结果是%s'%r) #由于上面的代码有问题，所以这行代码不执行，直接跳入except中\n",
    "except ZeroDivisionError as e:\n",
    "    print('except:',e)\n",
    "except ValueError as e:\n",
    "    print('except:',e)\n",
    "else:\n",
    "    print('没有错误') \n",
    "finally:\n",
    "    print('finally....')\n",
    "print('end')\n"
   ]
  },
  {
   "cell_type": "code",
   "execution_count": 26,
   "metadata": {},
   "outputs": [
    {
     "name": "stdout",
     "output_type": "stream",
     "text": [
      "Error: division by zero\n",
      "finally...\n"
     ]
    }
   ],
   "source": [
    "'''\n",
    "try...except可以跨越多层调用，\n",
    "比如函数main()调用bar()，bar()调用foo()，结果foo()出错了，\n",
    "这时，只要main()捕获到了，就可以处理。如下：\n",
    "'''\n",
    "def foo(s):\n",
    "    return 10 / int(s)\n",
    "\n",
    "def bar(s):\n",
    "    return foo(s) * 2\n",
    "\n",
    "def main():\n",
    "    try:\n",
    "        # 这个地方捕捉的是foo的错误，\n",
    "        bar(0)\n",
    "    except Exception as e:\n",
    "        print('Error:', e)\n",
    "    finally:\n",
    "        print('finally...')\n",
    "        \n",
    "        \n",
    "main()"
   ]
  },
  {
   "cell_type": "code",
   "execution_count": 32,
   "metadata": {},
   "outputs": [
    {
     "name": "stderr",
     "output_type": "stream",
     "text": [
      "ERROR:root:division by zero\n",
      "Traceback (most recent call last):\n",
      "  File \"<ipython-input-32-5e17df23ba78>\", line 10, in main\n",
      "    foo('0')\n",
      "  File \"<ipython-input-32-5e17df23ba78>\", line 6, in foo\n",
      "    return 10 / int(s)\n",
      "ZeroDivisionError: division by zero\n"
     ]
    },
    {
     "name": "stdout",
     "output_type": "stream",
     "text": [
      "division by zero\n",
      "end\n"
     ]
    }
   ],
   "source": [
    "# 记录错误\n",
    "# 利用 logging 记录错误栈。如果让程序自己打印错误栈，那么程序就退出了\n",
    "# 还可以将错误记录放到日志文件里，方便后期查看\n",
    "import logging\n",
    "\n",
    "def foo(s):\n",
    "    return 10 / int(s)\n",
    "\n",
    "def main():\n",
    "    try:\n",
    "        foo('0')\n",
    "    except Exception as e:\n",
    "        # 记录异常\n",
    "        logging.exception(e)\n",
    "main()\n",
    "print('end')\n"
   ]
  },
  {
   "cell_type": "code",
   "execution_count": 38,
   "metadata": {},
   "outputs": [
    {
     "name": "stdout",
     "output_type": "stream",
     "text": [
      "西游记西游记西游记红楼梦红楼梦\n",
      "end\n"
     ]
    }
   ],
   "source": [
    "# 打开文件，配合try 可以捕获一些错误\n",
    "try:\n",
    "    with open('/Users/tongli/Desktop/Learn_Python/1_基础知识/resources/text.txt','r') as f:\n",
    "        print(f.read())\n",
    "        \n",
    "except Exception as e:\n",
    "    print(e)\n",
    "finally:\n",
    "    print('end')\n",
    "    "
   ]
  },
  {
   "cell_type": "code",
   "execution_count": null,
   "metadata": {
    "collapsed": true
   },
   "outputs": [],
   "source": []
  }
 ],
 "metadata": {
  "kernelspec": {
   "display_name": "Python(tensorflow_env)",
   "language": "python",
   "name": "tensorflow_env"
  },
  "language_info": {
   "codemirror_mode": {
    "name": "ipython",
    "version": 3
   },
   "file_extension": ".py",
   "mimetype": "text/x-python",
   "name": "python",
   "nbconvert_exporter": "python",
   "pygments_lexer": "ipython3",
   "version": "3.7.6"
  }
 },
 "nbformat": 4,
 "nbformat_minor": 4
}
