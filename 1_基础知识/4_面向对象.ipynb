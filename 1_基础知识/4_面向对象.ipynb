{
 "cells": [
  {
   "cell_type": "code",
   "execution_count": 13,
   "metadata": {
    "code_folding": []
   },
   "outputs": [
    {
     "name": "stdout",
     "output_type": "stream",
     "text": [
      "18\n",
      "lisa\n",
      "分数是98\n"
     ]
    }
   ],
   "source": [
    "'''\n",
    "类\n",
    "class 类名(父类，默认是object):\n",
    "      内容\n",
    "''' \n",
    "class Student(object):\n",
    "    # 初始化时，可绑定必要属性\n",
    "    def __init__(self, name, age, score):\n",
    "        self.name = name\n",
    "        self.age = age\n",
    "        # 加两个下划线的属性是，私有属性\n",
    "        self.__score = score\n",
    "    \n",
    "    # 定义一个方法\n",
    "    def print_score(self):\n",
    "        print('分数是%d' % self.__score)\n",
    "\n",
    "# 实例化一个对象\n",
    "stu1= Student('lisa',18, 98)\n",
    "# 访问属性\n",
    "print(stu1.age)\n",
    "print(stu1.name)\n",
    "# 调用方法\n",
    "stu1.print_score()\n"
   ]
  },
  {
   "cell_type": "code",
   "execution_count": 48,
   "metadata": {},
   "outputs": [
    {
     "name": "stdout",
     "output_type": "stream",
     "text": [
      "13\n",
      "男\n",
      "小白\n",
      "小白 run run run\n",
      "<class '__main__.Dog'>\n",
      "True\n",
      "['__class__', '__delattr__', '__dict__', '__dir__', '__doc__', '__eq__', '__format__', '__ge__', '__getattribute__', '__gt__', '__hash__', '__init__', '__init_subclass__', '__le__', '__lt__', '__module__', '__ne__', '__new__', '__reduce__', '__reduce_ex__', '__repr__', '__setattr__', '__sizeof__', '__str__', '__subclasshook__', '__weakref__', 'name', 'print_run', 'sex']\n",
      "False\n"
     ]
    }
   ],
   "source": [
    "# --------- 继承\n",
    "class Animal(object):\n",
    "    def __init__(self):\n",
    "        self.sex = '女'\n",
    "    def print_run(self):\n",
    "        print('run  run  run')\n",
    "    \n",
    "# 实例化一个对象\n",
    "ani = Animal()\n",
    "# 动态设置属性\n",
    "ani.age = 13\n",
    "print(ani.age)\n",
    "\n",
    "# 继承上面的类\n",
    "class Dog(Animal):\n",
    "    def __init__(self,name):\n",
    "        super().__init__()\n",
    "        self.name = name\n",
    "        \n",
    "    # 重写父类方法\n",
    "    def print_run(self):\n",
    "        print('%s run run run'%self.name)\n",
    "\n",
    "dog = Dog('小白');\n",
    "# 设置父类属性\n",
    "dog.sex = '男'\n",
    "# 访问父类的属性\n",
    "print(dog.sex)\n",
    "\n",
    "# 访问子类的属性\n",
    "print(dog.name)\n",
    "# 注意 动态添加的属性，无法继承。上面父类的age属性，这里访问不了\n",
    "\n",
    "# 访问重写父类的方法\n",
    "dog.print_run()\n",
    "\n",
    "\n",
    "#-----------  获取对象信息\n",
    "print(type(dog)) # 获取这个对象的类\n",
    "\n",
    "# isinstance(实例对象，类) 判断这个对象，是不是这个类\n",
    "print(isinstance(dog, Dog))\n",
    "\n",
    "# 获取对象的所有属性和方法\n",
    "print(dir(dog))\n",
    "\n",
    "# hasattr(obj,'x')  是否有属性或者方法 x\n",
    "print(hasattr(dog, 'name'))\n",
    "\n",
    "\n",
    "\n",
    "\n"
   ]
  },
  {
   "cell_type": "code",
   "execution_count": 50,
   "metadata": {},
   "outputs": [
    {
     "name": "stdout",
     "output_type": "stream",
     "text": [
      "Bob\n",
      "lisa\n",
      "18\n",
      "Student\n"
     ]
    }
   ],
   "source": [
    "# 实例属性 和 类属性\n",
    "\n",
    "class Student(object):\n",
    "    \"\"\"docstring for ClassName \"\"\"\n",
    "    # 类属性\n",
    "    name = 'Student'\n",
    "    age = 18\n",
    "\n",
    "    def __init__(self, name):\n",
    "        # 实例属性\n",
    "        self.name = name\n",
    "\n",
    "\n",
    "stu1 = Student('Bob')\n",
    "# 访问实例属性\n",
    "print(stu1.name)\n",
    "stu1.name = 'lisa'\n",
    "print(stu1.name)\n",
    "\n",
    "# 如果没有实例属性，所以就继续查找类属性\n",
    "print(stu1.age)\n",
    "\n",
    "# 访问类属性\n",
    "print(Student.name)\n",
    "# 设置类属性\n",
    "Student.name = 'tony'"
   ]
  }
 ],
 "metadata": {
  "kernelspec": {
   "display_name": "Python [conda env:tensorflow_env] *",
   "language": "python",
   "name": "conda-env-tensorflow_env-py"
  },
  "language_info": {
   "codemirror_mode": {
    "name": "ipython",
    "version": 3
   },
   "file_extension": ".py",
   "mimetype": "text/x-python",
   "name": "python",
   "nbconvert_exporter": "python",
   "pygments_lexer": "ipython3",
   "version": "3.7.7"
  }
 },
 "nbformat": 4,
 "nbformat_minor": 4
}
