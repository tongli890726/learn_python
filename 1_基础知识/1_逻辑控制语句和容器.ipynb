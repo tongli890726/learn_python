{
 "cells": [
  {
   "cell_type": "code",
   "execution_count": 7,
   "metadata": {},
   "outputs": [
    {
     "name": "stdout",
     "output_type": "stream",
     "text": [
      "123\n"
     ]
    }
   ],
   "source": [
    "print('123')"
   ]
  },
  {
   "cell_type": "code",
   "execution_count": 18,
   "metadata": {
    "code_folding": []
   },
   "outputs": [
    {
     "name": "stdout",
     "output_type": "stream",
     "text": [
      "大于0\n"
     ]
    }
   ],
   "source": [
    "i = 1\n",
    "if i > 0:\n",
    "    print('大于0')\n",
    "elif i == 0 :\n",
    "    print('等于0')\n",
    "else :\n",
    "    print('小于0')\n"
   ]
  },
  {
   "cell_type": "code",
   "execution_count": 20,
   "metadata": {},
   "outputs": [
    {
     "name": "stdout",
     "output_type": "stream",
     "text": [
      "111\n",
      "111\n",
      "111\n",
      "111\n",
      "111\n"
     ]
    }
   ],
   "source": [
    "# -----  for循环 -----\n",
    "for i in range(5):\n",
    "    print('111')"
   ]
  },
  {
   "cell_type": "code",
   "execution_count": 23,
   "metadata": {},
   "outputs": [
    {
     "name": "stdout",
     "output_type": "stream",
     "text": [
      "1\n",
      "2\n",
      "3\n",
      "4\n"
     ]
    }
   ],
   "source": [
    "# 循环列表\n",
    "for i in ['1','2','3','4']:\n",
    "    print(i)"
   ]
  },
  {
   "cell_type": "code",
   "execution_count": 30,
   "metadata": {},
   "outputs": [
    {
     "name": "stdout",
     "output_type": "stream",
     "text": [
      "1\n",
      "2\n",
      "4\n",
      "5\n"
     ]
    }
   ],
   "source": [
    "# ----- while -----\n",
    "i = 0\n",
    "while i < 5:\n",
    "    i= i+1;\n",
    "    if i == 3:\n",
    "#         break\n",
    "        continue\n",
    "    print(i)"
   ]
  },
  {
   "cell_type": "code",
   "execution_count": 10,
   "metadata": {},
   "outputs": [
    {
     "name": "stdout",
     "output_type": "stream",
     "text": [
      "[]\n",
      "['111', '222', '333'] 3\n",
      "222\n",
      "['111', 'tony', '222', '444', '555']\n",
      "['111', '222']\n",
      "[]\n"
     ]
    }
   ],
   "source": [
    "# ---- 列表list ----\n",
    "#1、初始化\n",
    "list1 = []\n",
    "list2 = ['111','222','333']\n",
    "print(list1)\n",
    "print(list2, len(list2))\n",
    "print(list2[1])\n",
    "list2[2] = '444'\n",
    "list2.append('555')\n",
    "list2.insert(1, 'tony')\n",
    "print(list2)\n",
    "list2.pop()  #根据下标 删除元素，pop(index)如果不写index就是删除最后一个元素，\n",
    "list2.pop(1)\n",
    "list2.remove('444') # remove(要删除的元素)删除元素，参数是要删除的元素\n",
    "print(list2)\n",
    "list2.clear() # 清空所有元素\n",
    "print(list2)\n"
   ]
  },
  {
   "cell_type": "code",
   "execution_count": 52,
   "metadata": {},
   "outputs": [
    {
     "name": "stdout",
     "output_type": "stream",
     "text": [
      "<class 'int'>\n"
     ]
    }
   ],
   "source": [
    "tuple1 = (1,'2')\n",
    "print(type(tuple1[0]) )"
   ]
  },
  {
   "cell_type": "code",
   "execution_count": 8,
   "metadata": {},
   "outputs": [
    {
     "name": "stdout",
     "output_type": "stream",
     "text": [
      "tony\n",
      "('name', 'tony')\n",
      "('age', 19)\n",
      "name\n",
      "age\n",
      "tony\n",
      "19\n",
      "有\n",
      "{'age': 19, 'name': 'tony'}\n"
     ]
    }
   ],
   "source": [
    "# 字典\n",
    "tempDic= {'name':'tony',\n",
    "         'age':19}\n",
    "name = tempDic['name']\n",
    "print(name)\n",
    "\n",
    "# 遍历字典\n",
    "for kv in tempDic.items():\n",
    "    print( kv)\n",
    "# 遍历key\n",
    "for key in tempDic.keys():\n",
    "    print(key)\n",
    "# 遍历value\n",
    "for value in tempDic.values():\n",
    "    print(value)\n",
    "    \n",
    "if 'name' in tempDic :\n",
    "    print('有')\n",
    "else :\n",
    "    print('无')\n",
    "    \n",
    "# 删除键值对\n",
    "tempDic.pop('name')\n",
    "# 添加键值对\n",
    "tempDic['name'] = 'tony'\n",
    "print(tempDic)\n",
    "# 清空\n",
    "tempDic.clear()\n"
   ]
  },
  {
   "cell_type": "code",
   "execution_count": 4,
   "metadata": {},
   "outputs": [
    {
     "name": "stdout",
     "output_type": "stream",
     "text": [
      "True\n"
     ]
    }
   ],
   "source": [
    "# # and相当于& ; or相当于|;  not相当于!\n",
    "# is    is not 身份运算符 与==和!=的区别是，==和!=是判断数值，is和 is not是判断身份，应该是内存空间\n",
    "# in    not in 成员运算符，是不是在里面"
   ]
  },
  {
   "cell_type": "code",
   "execution_count": 7,
   "metadata": {},
   "outputs": [
    {
     "name": "stdout",
     "output_type": "stream",
     "text": [
      "[222, 333, 444, 555]\n"
     ]
    }
   ],
   "source": [
    "aaa = [111,222,333,444,555]\n",
    "aaa.remove(111)\n",
    "print(aaa)"
   ]
  }
 ],
 "metadata": {
  "kernelspec": {
   "display_name": "Python [conda env:tensorflow_env] *",
   "language": "python",
   "name": "conda-env-tensorflow_env-py"
  },
  "language_info": {
   "codemirror_mode": {
    "name": "ipython",
    "version": 3
   },
   "file_extension": ".py",
   "mimetype": "text/x-python",
   "name": "python",
   "nbconvert_exporter": "python",
   "pygments_lexer": "ipython3",
   "version": "3.7.7"
  }
 },
 "nbformat": 4,
 "nbformat_minor": 4
}
