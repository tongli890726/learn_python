{
 "cells": [
  {
   "cell_type": "code",
   "execution_count": 29,
   "metadata": {},
   "outputs": [
    {
     "name": "stdout",
     "output_type": "stream",
     "text": [
      "2\n",
      "4\n",
      "1\n",
      "12\n",
      "1245\n",
      "12.9\n",
      "1.24\n",
      "True\n",
      "False\n",
      "0xa\n"
     ]
    }
   ],
   "source": [
    "# 一些常用函数\n",
    "# 绝对值函数\n",
    "print(abs(-2))\n",
    "\n",
    "# 最大(小)值函数\n",
    "print(max(1,2,4))\n",
    "print(min(4, 5, 1))\n",
    "\n",
    "# 数据类型转换\n",
    "print(int(12.3))\n",
    "print(int('1245'))\n",
    "print(float('12.9'))\n",
    "print(str(1.24))\n",
    "print(bool(1))\n",
    "print(bool(0))\n",
    "\n",
    "# 十进制 转换到 16进制\n",
    "print(hex(10))"
   ]
  },
  {
   "cell_type": "code",
   "execution_count": 31,
   "metadata": {},
   "outputs": [
    {
     "name": "stdout",
     "output_type": "stream",
     "text": [
      "4\n"
     ]
    }
   ],
   "source": [
    "# 定义函数\n",
    "def my_func(x, y):\n",
    "    if x < y:\n",
    "        print(x)\n",
    "    else:\n",
    "        print(y)\n",
    "        \n",
    "# 调用\n",
    "my_func(7, 4)"
   ]
  },
  {
   "cell_type": "code",
   "execution_count": 34,
   "metadata": {},
   "outputs": [
    {
     "name": "stdout",
     "output_type": "stream",
     "text": [
      "打印了\n",
      "打印了\n",
      "打印了\n",
      "打印了\n",
      "打印了\n",
      "打印了\n"
     ]
    }
   ],
   "source": [
    "# 默认参数 \n",
    "# 1、必选参数在前，默认参数在后。 2、变化大的参数放前面，变化小的参数放后面\n",
    "# n是默认函数，等号后是默认值\n",
    "def my_func2(str1, n=2):\n",
    "    for i in range(n):\n",
    "        print(str1)\n",
    "\n",
    "# 不传默认参数，就采用默认值\n",
    "my_func2('打印了')\n",
    "# 如果传了默认参数，就按照传递的值\n",
    "my_func2('打印了',n=4)"
   ]
  },
  {
   "cell_type": "code",
   "execution_count": 39,
   "metadata": {},
   "outputs": [
    {
     "name": "stdout",
     "output_type": "stream",
     "text": [
      "<class 'tuple'>\n",
      "1\n",
      "<class 'tuple'>\n",
      "6\n",
      "<class 'tuple'>\n",
      "0\n",
      "<class 'tuple'>\n",
      "7\n"
     ]
    }
   ],
   "source": [
    "# 可变参数，在参数前 加上 * 号，\n",
    "def my_func3(*nums):\n",
    "    print(type(nums)) #在函数内部可变参数就是一个tuple\n",
    "    sum = 0\n",
    "    for n in nums:\n",
    "        sum = sum + n\n",
    "    return sum\n",
    "\n",
    "# 可变参数，即参数的个数不固定\n",
    "print(my_func3(1))\n",
    "print(my_func3(1,2,3))\n",
    "print(my_func3())\n",
    "\n",
    "# 在list参数前加上* ，将list的元素当做可变参数传进去\n",
    "arr = [1, 2, 4]\n",
    "print(my_func3(*arr))"
   ]
  },
  {
   "cell_type": "code",
   "execution_count": 49,
   "metadata": {},
   "outputs": [
    {
     "name": "stdout",
     "output_type": "stream",
     "text": [
      "<class 'dict'>\n",
      "name: tony age: 25 other: {}\n",
      "<class 'dict'>\n",
      "name: tony age: 25 other: {'city': 'beijing'}\n",
      "<class 'dict'>\n",
      "name: tony age: 25 other: {'city': 'beijing', 'sex': 'man'}\n",
      "<class 'dict'>\n",
      "name: lisa age: 18 other: {'city': 'shanghai', 'sex': 'woman'}\n"
     ]
    }
   ],
   "source": [
    "# 关键字参数，参数前有两个** 函数内部组成字典，\n",
    "def my_func4(name, age, **kw):\n",
    "    print(type(kw)) #在函数内部关键字就是一个字典\n",
    "    print('name:', name, 'age:', age, 'other:', kw)\n",
    "    \n",
    "# 关键字参数，关键字=值，可以调用任意个\n",
    "my_func4('tony', 25)\n",
    "my_func4('tony', 25, city='beijing')\n",
    "my_func4('tony', 25, city='beijing', sex='man')\n",
    "\n",
    "# 在dic参数前加上** ，当做关键字参数传进去\n",
    "tempDic = {'city':'shanghai', 'sex':'woman'}\n",
    "my_func4('lisa', 18,**tempDic)\n"
   ]
  },
  {
   "cell_type": "code",
   "execution_count": null,
   "metadata": {},
   "outputs": [],
   "source": [
    "# 使用*args(可变参数)和**kw(关键字参数)是Python的习惯写法，当然也可以用其他参数名，但最好使用习惯用法。"
   ]
  }
 ],
 "metadata": {
  "kernelspec": {
   "display_name": "Python [conda env:tensorflow_env] *",
   "language": "python",
   "name": "conda-env-tensorflow_env-py"
  },
  "language_info": {
   "codemirror_mode": {
    "name": "ipython",
    "version": 3
   },
   "file_extension": ".py",
   "mimetype": "text/x-python",
   "name": "python",
   "nbconvert_exporter": "python",
   "pygments_lexer": "ipython3",
   "version": "3.7.7"
  }
 },
 "nbformat": 4,
 "nbformat_minor": 4
}
